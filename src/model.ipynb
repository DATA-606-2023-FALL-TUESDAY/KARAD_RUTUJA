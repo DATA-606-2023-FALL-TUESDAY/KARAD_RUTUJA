{
  "nbformat": 4,
  "nbformat_minor": 0,
  "metadata": {
    "colab": {
      "provenance": []
    },
    "kernelspec": {
      "name": "python3",
      "display_name": "Python 3"
    },
    "language_info": {
      "name": "python"
    }
  },
  "cells": [
    {
      "cell_type": "code",
      "execution_count": null,
      "metadata": {
        "id": "6Fki8As8nOQR"
      },
      "outputs": [],
      "source": [
        "import pandas as pd\n",
        "import numpy as np\n",
        "from sklearn.pipeline import Pipeline\n",
        "import nltk\n",
        "import nltk.corpus\n",
        "from nltk.tokenize import word_tokenize\n",
        "from gensim.models.word2vec import Word2Vec\n",
        "from sklearn.model_selection import train_test_split\n",
        "from nltk.stem import PorterStemmer\n",
        "from nltk.tokenize import word_tokenize\n",
        "from nltk.corpus import stopwords\n",
        "from sklearn.feature_extraction.text import CountVectorizer, TfidfVectorizer, TfidfTransformer\n",
        "from nltk.tag import pos_tag\n",
        "from gensim.models import Word2Vec"
      ]
    },
    {
      "cell_type": "code",
      "source": [
        "def read_and_label_csv(fake_file_path, real_file_path):\n",
        "    \"\"\"Read the CSV files and append the \"Target\" column.\"\"\"\n",
        "    fake = pd.read_csv(fake_file_path)\n",
        "    fake['Target'] = 0\n",
        "\n",
        "    real = pd.read_csv(real_file_path)\n",
        "    real['Target'] = 1\n",
        "\n",
        "    return fake, real\n",
        "\n",
        "def merge_dataframes(fake, real):\n",
        "    \"\"\"Merge the dataframes.\"\"\"\n",
        "    return pd.concat([fake, real], axis=0).reset_index(drop=True)\n",
        "\n",
        "def split_data(df, test_size=0.2, val_size=0.1):\n",
        "    \"\"\"Split the merged dataframe into train, test, and validation sets.\"\"\"\n",
        "    train_val, test = train_test_split(df, test_size=test_size, random_state=42, stratify=df['Target'])\n",
        "\n",
        "    train, val = train_test_split(train_val, test_size=val_size, random_state=42, stratify=train_val['Target'])\n",
        "\n",
        "    return train, val, test\n"
      ],
      "metadata": {
        "id": "QgYxCcX-nbHp"
      },
      "execution_count": null,
      "outputs": []
    },
    {
      "cell_type": "code",
      "source": [
        "import nltk\n",
        "from nltk.tokenize import word_tokenize\n",
        "from nltk.tag import pos_tag\n",
        "from gensim.models import Word2Vec\n",
        "\n",
        "# Ensure you have the necessary NLTK resources downloaded\n",
        "nltk.download('averaged_perceptron_tagger')\n",
        "\n",
        "nltk.download(\"punkt\")\n",
        "nltk.download(\"stopwords\")\n"
      ],
      "metadata": {
        "colab": {
          "base_uri": "https://localhost:8080/"
        },
        "id": "7SpqJZtknnsY",
        "outputId": "19840d1c-6762-4a4f-c8fc-2a40a6db7958"
      },
      "execution_count": null,
      "outputs": [
        {
          "output_type": "stream",
          "name": "stderr",
          "text": [
            "[nltk_data] Downloading package averaged_perceptron_tagger to\n",
            "[nltk_data]     /root/nltk_data...\n",
            "[nltk_data]   Unzipping taggers/averaged_perceptron_tagger.zip.\n",
            "[nltk_data] Downloading package punkt to /root/nltk_data...\n",
            "[nltk_data]   Unzipping tokenizers/punkt.zip.\n",
            "[nltk_data] Downloading package stopwords to /root/nltk_data...\n",
            "[nltk_data]   Unzipping corpora/stopwords.zip.\n"
          ]
        },
        {
          "output_type": "execute_result",
          "data": {
            "text/plain": [
              "True"
            ]
          },
          "metadata": {},
          "execution_count": 3
        }
      ]
    },
    {
      "cell_type": "code",
      "source": [
        "# Text Preprocessing\n",
        "def preprocess_text(text):\n",
        "    \"\"\"\n",
        "    Preprocess the given text:\n",
        "    - Convert to lowercase\n",
        "    - Tokenize\n",
        "    - Remove stopwords and non-alphabetic tokens\n",
        "    - Stemming\n",
        "    \"\"\"\n",
        "    text = text.lower()\n",
        "\n",
        "    tokens = word_tokenize(text)\n",
        "\n",
        "    tokens = [token for token in tokens if token.isalpha() and token not in stopwords.words('english')]\n",
        "\n",
        "    stemmer = PorterStemmer()\n",
        "    tokens = [stemmer.stem(token) for token in tokens]\n",
        "\n",
        "    return \" \".join(tokens)"
      ],
      "metadata": {
        "id": "z9jwhWCqnkHO"
      },
      "execution_count": null,
      "outputs": []
    },
    {
      "cell_type": "code",
      "source": [
        "# POS (Part-of-Speech) Tagging\n",
        "\n",
        "def get_pos_tags(text):\n",
        "    \"\"\"\n",
        "    Tokenize the text and return the concatenated POS tags.\n",
        "    \"\"\"\n",
        "    tokens = word_tokenize(text)\n",
        "    tagged_tokens = pos_tag(tokens)\n",
        "    pos_tags = [tag for _, tag in tagged_tokens]\n",
        "    return \" \".join(pos_tags)"
      ],
      "metadata": {
        "id": "u21XhsbUn1ZS"
      },
      "execution_count": null,
      "outputs": []
    },
    {
      "cell_type": "code",
      "source": [
        "# Word2Vec\n",
        "\n",
        "def get_word2vec_embeddings(sentences, vector_size=100, window=5, min_count=1, workers=4):\n",
        "    \"\"\"\n",
        "    Train a Word2Vec model on the provided sentences and return the model.\n",
        "    \"\"\"\n",
        "    model = Word2Vec(sentences=sentences, vector_size=vector_size, window=window, min_count=min_count, workers=workers)\n",
        "    return model\n",
        "\n",
        "def sentence_to_avg_vector(sentence, model):\n",
        "    \"\"\"\n",
        "    Convert a sentence to its average word vector representation using the provided Word2Vec model.\n",
        "    \"\"\"\n",
        "    words = word_tokenize(sentence)\n",
        "    vectors = [model.wv[word] for word in words if word in model.wv.index_to_key]\n",
        "\n",
        "    if vectors:\n",
        "        avg_vector = sum(vectors) / len(vectors)\n",
        "    else:\n",
        "        avg_vector = [0] * model.vector_size\n",
        "    return avg_vector"
      ],
      "metadata": {
        "id": "ZmKCZ_GZn66X"
      },
      "execution_count": null,
      "outputs": []
    },
    {
      "cell_type": "code",
      "source": [
        "# Feature Extraction\n",
        "def extract_features(train, val, test, method=\"bow\", ngram_range=(1,1)):\n",
        "    \"\"\"\n",
        "    Extract features using the specified method.\n",
        "    Available methods: \"bow\" for Bag-of-Words, \"tfidf\" for TF-IDF\n",
        "    \"\"\"\n",
        "    if method == \"bow\":\n",
        "        vectorizer = CountVectorizer(ngram_range=ngram_range)\n",
        "    elif method == \"tfidf\":\n",
        "        vectorizer = TfidfVectorizer(ngram_range=ngram_range)\n",
        "    else:\n",
        "        raise ValueError(\"Invalid method. Choose from 'bow' or 'tfidf'.\")\n",
        "\n",
        "    train_features = vectorizer.fit_transform(train)\n",
        "    val_features = vectorizer.transform(val)\n",
        "    test_features = vectorizer.transform(test)\n",
        "\n",
        "    return train_features, val_features, test_features"
      ],
      "metadata": {
        "id": "6o7zIq3gn9nN"
      },
      "execution_count": null,
      "outputs": []
    },
    {
      "cell_type": "code",
      "source": [
        "from joblib import Parallel, delayed\n",
        "from multiprocessing import cpu_count\n",
        "\n",
        "def preprocess_chunk(chunk):\n",
        "    return chunk.apply(preprocess_text)\n",
        "\n",
        "def parallel_preprocessing(data, func=preprocess_chunk, n_jobs=-1):\n",
        "    \"\"\"\n",
        "    Parallelize any function that processes a DataFrame.\n",
        "    \"\"\"\n",
        "    if n_jobs == -1:\n",
        "        # Use all available cores\n",
        "        n_jobs = cpu_count()\n",
        "\n",
        "    # Split the data into chunks for each CPU core\n",
        "    chunks = np.array_split(data, n_jobs)\n",
        "\n",
        "    # Use joblib to parallelize the function\n",
        "    processed_data = Parallel(n_jobs=n_jobs, backend='multiprocessing')(delayed(func)(chunk) for chunk in chunks)\n",
        "\n",
        "    # Concatenate the processed chunks back into a single Series\n",
        "    return pd.concat(processed_data)\n",
        "\n",
        "# # Using parallel preprocessing on the dataframes\n",
        "# train_df['text'] = parallel_preprocessing(train_df['text'])\n",
        "# val_df['text'] = parallel_preprocessing(val_df['text'])\n",
        "# test_df['text'] = parallel_preprocessing(test_df['text'])\n"
      ],
      "metadata": {
        "id": "s80i3O3-oTqj"
      },
      "execution_count": null,
      "outputs": []
    },
    {
      "cell_type": "code",
      "source": [
        "# Data Loading and Splitting\n",
        "fake, real = read_and_label_csv(\"/content/Fake.csv\", \"/content/True.csv\")\n",
        "merged_df = merge_dataframes(fake, real)\n",
        "train_df, val_df, test_df = split_data(merged_df)\n",
        "\n",
        "train_df.size\n",
        "\n",
        "# Preprocessing\n",
        "train_df['text'] = parallel_preprocessing(train_df['text'])\n",
        "val_df['text'] = parallel_preprocessing(val_df['text'])\n",
        "test_df['text'] = parallel_preprocessing(test_df['text'])\n",
        "\n",
        "\n",
        "# POS tagging\n",
        "train_df['pos_tags'] = train_df['text'].apply(get_pos_tags)\n",
        "val_df['pos_tags'] = val_df['text'].apply(get_pos_tags)\n",
        "test_df['pos_tags'] = test_df['text'].apply(get_pos_tags)\n",
        "\n",
        "# Feature Extraction\n",
        "train_features, val_features, test_features = extract_features(train_df['text'], val_df['text'], test_df['text'], method=\"bow\")\n",
        "\n",
        "# Word2Vec embeddings\n",
        "sentences = train_df['text'].apply(word_tokenize).tolist()\n",
        "w2v_model = get_word2vec_embeddings(sentences)\n",
        "train_df['w2v'] = train_df['text'].apply(lambda x: sentence_to_avg_vector(x, w2v_model))\n",
        "val_df['w2v'] = val_df['text'].apply(lambda x: sentence_to_avg_vector(x, w2v_model))\n",
        "test_df['w2v'] = test_df['text'].apply(lambda x: sentence_to_avg_vector(x, w2v_model))\n"
      ],
      "metadata": {
        "id": "mdZ690Dfn_UN"
      },
      "execution_count": null,
      "outputs": []
    },
    {
      "cell_type": "code",
      "source": [
        "from google.colab import drive\n",
        "drive.mount('/content/drive')\n"
      ],
      "metadata": {
        "colab": {
          "base_uri": "https://localhost:8080/"
        },
        "id": "WcLGZ4h3oCRM",
        "outputId": "867b6bd9-486e-465f-832a-50483100648a"
      },
      "execution_count": null,
      "outputs": [
        {
          "output_type": "stream",
          "name": "stdout",
          "text": [
            "Mounted at /content/drive\n"
          ]
        }
      ]
    },
    {
      "cell_type": "code",
      "source": [
        "train_df.to_pickle(\"/content/drive/MyDrive/train_df.pkl\")\n",
        "val_df.to_pickle(\"/content/drive/MyDrive/val_df.pkl\")\n",
        "test_df.to_pickle(\"/content/drive/MyDrive/test_df.pkl\")\n"
      ],
      "metadata": {
        "id": "94gOQ70k_wra"
      },
      "execution_count": null,
      "outputs": []
    },
    {
      "cell_type": "code",
      "source": [
        "train_df = pd.read_pickle(\"/content/drive/MyDrive/train_df.pkl\")\n",
        "val_df = pd.read_pickle(\"/content/drive/MyDrive/val_df.pkl\")\n",
        "test_df = pd.read_pickle(\"/content/drive/MyDrive/test_df.pkl\")\n"
      ],
      "metadata": {
        "id": "ho2hyfU3BCX0"
      },
      "execution_count": null,
      "outputs": []
    },
    {
      "cell_type": "code",
      "source": [
        "from google.colab import drive\n",
        "drive.mount('/content/drive')"
      ],
      "metadata": {
        "id": "6pd4RKs8BT1q"
      },
      "execution_count": null,
      "outputs": []
    },
    {
      "cell_type": "code",
      "source": [
        "train_df = pd.read_pickle(\"/content/drive/MyDrive/train_df.pkl\")\n",
        "val_df = pd.read_pickle(\"/content/drive/MyDrive/val_df.pkl\")\n",
        "test_df = pd.read_pickle(\"/content/drive/MyDrive/test_df.pkl\")"
      ],
      "metadata": {
        "id": "Co5KrgGkBmUb"
      },
      "execution_count": null,
      "outputs": []
    },
    {
      "cell_type": "code",
      "source": [
        "train_df.to_csv(\"train_df.csv\", index=False)"
      ],
      "metadata": {
        "id": "Ypcvo1vBCnGi"
      },
      "execution_count": null,
      "outputs": []
    },
    {
      "cell_type": "code",
      "source": [
        "test_df.to_csv(\"test_df.csv\", index=False)"
      ],
      "metadata": {
        "id": "b72b08XaXaYZ"
      },
      "execution_count": null,
      "outputs": []
    },
    {
      "cell_type": "code",
      "source": [
        "val_df.to_csv(\"val_df.csv\", index=False)"
      ],
      "metadata": {
        "id": "fzPZZm96YQfU"
      },
      "execution_count": null,
      "outputs": []
    },
    {
      "cell_type": "code",
      "source": [
        "train_df.head()"
      ],
      "metadata": {
        "colab": {
          "base_uri": "https://localhost:8080/",
          "height": 293
        },
        "id": "p3oJkhjFYSnV",
        "outputId": "65a5ec26-3626-4f5a-d5da-d7504dbf8cd1"
      },
      "execution_count": null,
      "outputs": [
        {
          "output_type": "execute_result",
          "data": {
            "text/plain": [
              "                                                   title  \\\n",
              "6408    Bill O’Reilly Pathetically Defends Trump: ‘Je...   \n",
              "6934    This Important Video Sums Up Why Donald Trump...   \n",
              "38227  German spy chief sees Russia as danger, cites ...   \n",
              "44593  U.S. intel official: No doubt North Korea test...   \n",
              "42449  British police release three more men in Londo...   \n",
              "\n",
              "                                                    text    subject  \\\n",
              "6408   fox news host bill reilli fox busi host lou do...       News   \n",
              "6934   despit damag presid georg bush war monger admi...       News   \n",
              "38227  berlin reuter germani spi chief warn russia se...  worldnews   \n",
              "44593  washington reuter intellig offici said sunday ...  worldnews   \n",
              "42449  reuter british polic said tuesday releas three...  worldnews   \n",
              "\n",
              "                      date  Target  \\\n",
              "6408          May 12, 2016       0   \n",
              "6934        April 13, 2016       0   \n",
              "38227   November 15, 2017        1   \n",
              "44593   September 3, 2017        1   \n",
              "42449  September 26, 2017        1   \n",
              "\n",
              "                                                pos_tags  \\\n",
              "6408   JJ NN NN NN VBZ JJ NN NN NN NN VBD NN NN NN VB...   \n",
              "6934   NN NN NN VBD JJ NN NN VBP VBN NN NN NN NN NN J...   \n",
              "38227  NN NN NN NN NN NN NN VBN JJ NN RB NN JJ JJ NN ...   \n",
              "44593  NN NN NN NN VBD JJ NN NN NN NN JJ JJ NN NN JJ ...   \n",
              "42449  NN JJ NN VBD JJ NNS CD NNS VBP NN NN NN NN NN ...   \n",
              "\n",
              "                                                     w2v  \n",
              "6408   [-0.28598538, -0.26184312, 0.22099337, 0.23066...  \n",
              "6934   [-0.33203617, -0.12083233, 0.1459635, 0.461638...  \n",
              "38227  [-0.2369827, 0.2080874, 0.066845044, -0.176110...  \n",
              "44593  [-0.33601782, -0.17155817, 0.24922632, -0.0068...  \n",
              "42449  [-0.17784081, -0.039035708, -0.11823719, 0.146...  "
            ],
            "text/html": [
              "\n",
              "  <div id=\"df-bc8b01fe-015c-4b49-bbb7-0598c07e9274\" class=\"colab-df-container\">\n",
              "    <div>\n",
              "<style scoped>\n",
              "    .dataframe tbody tr th:only-of-type {\n",
              "        vertical-align: middle;\n",
              "    }\n",
              "\n",
              "    .dataframe tbody tr th {\n",
              "        vertical-align: top;\n",
              "    }\n",
              "\n",
              "    .dataframe thead th {\n",
              "        text-align: right;\n",
              "    }\n",
              "</style>\n",
              "<table border=\"1\" class=\"dataframe\">\n",
              "  <thead>\n",
              "    <tr style=\"text-align: right;\">\n",
              "      <th></th>\n",
              "      <th>title</th>\n",
              "      <th>text</th>\n",
              "      <th>subject</th>\n",
              "      <th>date</th>\n",
              "      <th>Target</th>\n",
              "      <th>pos_tags</th>\n",
              "      <th>w2v</th>\n",
              "    </tr>\n",
              "  </thead>\n",
              "  <tbody>\n",
              "    <tr>\n",
              "      <th>6408</th>\n",
              "      <td>Bill O’Reilly Pathetically Defends Trump: ‘Je...</td>\n",
              "      <td>fox news host bill reilli fox busi host lou do...</td>\n",
              "      <td>News</td>\n",
              "      <td>May 12, 2016</td>\n",
              "      <td>0</td>\n",
              "      <td>JJ NN NN NN VBZ JJ NN NN NN NN VBD NN NN NN VB...</td>\n",
              "      <td>[-0.28598538, -0.26184312, 0.22099337, 0.23066...</td>\n",
              "    </tr>\n",
              "    <tr>\n",
              "      <th>6934</th>\n",
              "      <td>This Important Video Sums Up Why Donald Trump...</td>\n",
              "      <td>despit damag presid georg bush war monger admi...</td>\n",
              "      <td>News</td>\n",
              "      <td>April 13, 2016</td>\n",
              "      <td>0</td>\n",
              "      <td>NN NN NN VBD JJ NN NN VBP VBN NN NN NN NN NN J...</td>\n",
              "      <td>[-0.33203617, -0.12083233, 0.1459635, 0.461638...</td>\n",
              "    </tr>\n",
              "    <tr>\n",
              "      <th>38227</th>\n",
              "      <td>German spy chief sees Russia as danger, cites ...</td>\n",
              "      <td>berlin reuter germani spi chief warn russia se...</td>\n",
              "      <td>worldnews</td>\n",
              "      <td>November 15, 2017</td>\n",
              "      <td>1</td>\n",
              "      <td>NN NN NN NN NN NN NN VBN JJ NN RB NN JJ JJ NN ...</td>\n",
              "      <td>[-0.2369827, 0.2080874, 0.066845044, -0.176110...</td>\n",
              "    </tr>\n",
              "    <tr>\n",
              "      <th>44593</th>\n",
              "      <td>U.S. intel official: No doubt North Korea test...</td>\n",
              "      <td>washington reuter intellig offici said sunday ...</td>\n",
              "      <td>worldnews</td>\n",
              "      <td>September 3, 2017</td>\n",
              "      <td>1</td>\n",
              "      <td>NN NN NN NN VBD JJ NN NN NN NN JJ JJ NN NN JJ ...</td>\n",
              "      <td>[-0.33601782, -0.17155817, 0.24922632, -0.0068...</td>\n",
              "    </tr>\n",
              "    <tr>\n",
              "      <th>42449</th>\n",
              "      <td>British police release three more men in Londo...</td>\n",
              "      <td>reuter british polic said tuesday releas three...</td>\n",
              "      <td>worldnews</td>\n",
              "      <td>September 26, 2017</td>\n",
              "      <td>1</td>\n",
              "      <td>NN JJ NN VBD JJ NNS CD NNS VBP NN NN NN NN NN ...</td>\n",
              "      <td>[-0.17784081, -0.039035708, -0.11823719, 0.146...</td>\n",
              "    </tr>\n",
              "  </tbody>\n",
              "</table>\n",
              "</div>\n",
              "    <div class=\"colab-df-buttons\">\n",
              "\n",
              "  <div class=\"colab-df-container\">\n",
              "    <button class=\"colab-df-convert\" onclick=\"convertToInteractive('df-bc8b01fe-015c-4b49-bbb7-0598c07e9274')\"\n",
              "            title=\"Convert this dataframe to an interactive table.\"\n",
              "            style=\"display:none;\">\n",
              "\n",
              "  <svg xmlns=\"http://www.w3.org/2000/svg\" height=\"24px\" viewBox=\"0 -960 960 960\">\n",
              "    <path d=\"M120-120v-720h720v720H120Zm60-500h600v-160H180v160Zm220 220h160v-160H400v160Zm0 220h160v-160H400v160ZM180-400h160v-160H180v160Zm440 0h160v-160H620v160ZM180-180h160v-160H180v160Zm440 0h160v-160H620v160Z\"/>\n",
              "  </svg>\n",
              "    </button>\n",
              "\n",
              "  <style>\n",
              "    .colab-df-container {\n",
              "      display:flex;\n",
              "      gap: 12px;\n",
              "    }\n",
              "\n",
              "    .colab-df-convert {\n",
              "      background-color: #E8F0FE;\n",
              "      border: none;\n",
              "      border-radius: 50%;\n",
              "      cursor: pointer;\n",
              "      display: none;\n",
              "      fill: #1967D2;\n",
              "      height: 32px;\n",
              "      padding: 0 0 0 0;\n",
              "      width: 32px;\n",
              "    }\n",
              "\n",
              "    .colab-df-convert:hover {\n",
              "      background-color: #E2EBFA;\n",
              "      box-shadow: 0px 1px 2px rgba(60, 64, 67, 0.3), 0px 1px 3px 1px rgba(60, 64, 67, 0.15);\n",
              "      fill: #174EA6;\n",
              "    }\n",
              "\n",
              "    .colab-df-buttons div {\n",
              "      margin-bottom: 4px;\n",
              "    }\n",
              "\n",
              "    [theme=dark] .colab-df-convert {\n",
              "      background-color: #3B4455;\n",
              "      fill: #D2E3FC;\n",
              "    }\n",
              "\n",
              "    [theme=dark] .colab-df-convert:hover {\n",
              "      background-color: #434B5C;\n",
              "      box-shadow: 0px 1px 3px 1px rgba(0, 0, 0, 0.15);\n",
              "      filter: drop-shadow(0px 1px 2px rgba(0, 0, 0, 0.3));\n",
              "      fill: #FFFFFF;\n",
              "    }\n",
              "  </style>\n",
              "\n",
              "    <script>\n",
              "      const buttonEl =\n",
              "        document.querySelector('#df-bc8b01fe-015c-4b49-bbb7-0598c07e9274 button.colab-df-convert');\n",
              "      buttonEl.style.display =\n",
              "        google.colab.kernel.accessAllowed ? 'block' : 'none';\n",
              "\n",
              "      async function convertToInteractive(key) {\n",
              "        const element = document.querySelector('#df-bc8b01fe-015c-4b49-bbb7-0598c07e9274');\n",
              "        const dataTable =\n",
              "          await google.colab.kernel.invokeFunction('convertToInteractive',\n",
              "                                                    [key], {});\n",
              "        if (!dataTable) return;\n",
              "\n",
              "        const docLinkHtml = 'Like what you see? Visit the ' +\n",
              "          '<a target=\"_blank\" href=https://colab.research.google.com/notebooks/data_table.ipynb>data table notebook</a>'\n",
              "          + ' to learn more about interactive tables.';\n",
              "        element.innerHTML = '';\n",
              "        dataTable['output_type'] = 'display_data';\n",
              "        await google.colab.output.renderOutput(dataTable, element);\n",
              "        const docLink = document.createElement('div');\n",
              "        docLink.innerHTML = docLinkHtml;\n",
              "        element.appendChild(docLink);\n",
              "      }\n",
              "    </script>\n",
              "  </div>\n",
              "\n",
              "\n",
              "<div id=\"df-32407b46-93d3-45b1-a0f7-e131b44187e5\">\n",
              "  <button class=\"colab-df-quickchart\" onclick=\"quickchart('df-32407b46-93d3-45b1-a0f7-e131b44187e5')\"\n",
              "            title=\"Suggest charts.\"\n",
              "            style=\"display:none;\">\n",
              "\n",
              "<svg xmlns=\"http://www.w3.org/2000/svg\" height=\"24px\"viewBox=\"0 0 24 24\"\n",
              "     width=\"24px\">\n",
              "    <g>\n",
              "        <path d=\"M19 3H5c-1.1 0-2 .9-2 2v14c0 1.1.9 2 2 2h14c1.1 0 2-.9 2-2V5c0-1.1-.9-2-2-2zM9 17H7v-7h2v7zm4 0h-2V7h2v10zm4 0h-2v-4h2v4z\"/>\n",
              "    </g>\n",
              "</svg>\n",
              "  </button>\n",
              "\n",
              "<style>\n",
              "  .colab-df-quickchart {\n",
              "      --bg-color: #E8F0FE;\n",
              "      --fill-color: #1967D2;\n",
              "      --hover-bg-color: #E2EBFA;\n",
              "      --hover-fill-color: #174EA6;\n",
              "      --disabled-fill-color: #AAA;\n",
              "      --disabled-bg-color: #DDD;\n",
              "  }\n",
              "\n",
              "  [theme=dark] .colab-df-quickchart {\n",
              "      --bg-color: #3B4455;\n",
              "      --fill-color: #D2E3FC;\n",
              "      --hover-bg-color: #434B5C;\n",
              "      --hover-fill-color: #FFFFFF;\n",
              "      --disabled-bg-color: #3B4455;\n",
              "      --disabled-fill-color: #666;\n",
              "  }\n",
              "\n",
              "  .colab-df-quickchart {\n",
              "    background-color: var(--bg-color);\n",
              "    border: none;\n",
              "    border-radius: 50%;\n",
              "    cursor: pointer;\n",
              "    display: none;\n",
              "    fill: var(--fill-color);\n",
              "    height: 32px;\n",
              "    padding: 0;\n",
              "    width: 32px;\n",
              "  }\n",
              "\n",
              "  .colab-df-quickchart:hover {\n",
              "    background-color: var(--hover-bg-color);\n",
              "    box-shadow: 0 1px 2px rgba(60, 64, 67, 0.3), 0 1px 3px 1px rgba(60, 64, 67, 0.15);\n",
              "    fill: var(--button-hover-fill-color);\n",
              "  }\n",
              "\n",
              "  .colab-df-quickchart-complete:disabled,\n",
              "  .colab-df-quickchart-complete:disabled:hover {\n",
              "    background-color: var(--disabled-bg-color);\n",
              "    fill: var(--disabled-fill-color);\n",
              "    box-shadow: none;\n",
              "  }\n",
              "\n",
              "  .colab-df-spinner {\n",
              "    border: 2px solid var(--fill-color);\n",
              "    border-color: transparent;\n",
              "    border-bottom-color: var(--fill-color);\n",
              "    animation:\n",
              "      spin 1s steps(1) infinite;\n",
              "  }\n",
              "\n",
              "  @keyframes spin {\n",
              "    0% {\n",
              "      border-color: transparent;\n",
              "      border-bottom-color: var(--fill-color);\n",
              "      border-left-color: var(--fill-color);\n",
              "    }\n",
              "    20% {\n",
              "      border-color: transparent;\n",
              "      border-left-color: var(--fill-color);\n",
              "      border-top-color: var(--fill-color);\n",
              "    }\n",
              "    30% {\n",
              "      border-color: transparent;\n",
              "      border-left-color: var(--fill-color);\n",
              "      border-top-color: var(--fill-color);\n",
              "      border-right-color: var(--fill-color);\n",
              "    }\n",
              "    40% {\n",
              "      border-color: transparent;\n",
              "      border-right-color: var(--fill-color);\n",
              "      border-top-color: var(--fill-color);\n",
              "    }\n",
              "    60% {\n",
              "      border-color: transparent;\n",
              "      border-right-color: var(--fill-color);\n",
              "    }\n",
              "    80% {\n",
              "      border-color: transparent;\n",
              "      border-right-color: var(--fill-color);\n",
              "      border-bottom-color: var(--fill-color);\n",
              "    }\n",
              "    90% {\n",
              "      border-color: transparent;\n",
              "      border-bottom-color: var(--fill-color);\n",
              "    }\n",
              "  }\n",
              "</style>\n",
              "\n",
              "  <script>\n",
              "    async function quickchart(key) {\n",
              "      const quickchartButtonEl =\n",
              "        document.querySelector('#' + key + ' button');\n",
              "      quickchartButtonEl.disabled = true;  // To prevent multiple clicks.\n",
              "      quickchartButtonEl.classList.add('colab-df-spinner');\n",
              "      try {\n",
              "        const charts = await google.colab.kernel.invokeFunction(\n",
              "            'suggestCharts', [key], {});\n",
              "      } catch (error) {\n",
              "        console.error('Error during call to suggestCharts:', error);\n",
              "      }\n",
              "      quickchartButtonEl.classList.remove('colab-df-spinner');\n",
              "      quickchartButtonEl.classList.add('colab-df-quickchart-complete');\n",
              "    }\n",
              "    (() => {\n",
              "      let quickchartButtonEl =\n",
              "        document.querySelector('#df-32407b46-93d3-45b1-a0f7-e131b44187e5 button');\n",
              "      quickchartButtonEl.style.display =\n",
              "        google.colab.kernel.accessAllowed ? 'block' : 'none';\n",
              "    })();\n",
              "  </script>\n",
              "</div>\n",
              "    </div>\n",
              "  </div>\n"
            ]
          },
          "metadata": {},
          "execution_count": 16
        }
      ]
    },
    {
      "cell_type": "code",
      "source": [
        "from sklearn.feature_extraction.text import TfidfVectorizer\n",
        "from sklearn.naive_bayes import MultinomialNB\n",
        "from sklearn.linear_model import LogisticRegression, SGDClassifier\n",
        "from sklearn.svm import LinearSVC\n",
        "from sklearn.ensemble import RandomForestClassifier\n",
        "from sklearn.metrics import f1_score, confusion_matrix\n",
        "\n",
        "# TF-IDF Vectorizer for POS tags\n",
        "tfidf_vectorizer = TfidfVectorizer(max_features=5000)\n",
        "X_train_pos = tfidf_vectorizer.fit_transform(train_df['pos_tags'])\n",
        "X_test_pos = tfidf_vectorizer.transform(test_df['pos_tags'])\n",
        "\n",
        "# Use w2v features directly as they are already in matrix format\n",
        "X_train_w2v = np.stack(train_df['w2v'].to_numpy())\n",
        "X_test_w2v = np.stack(test_df['w2v'].to_numpy())\n",
        "\n",
        "y_train = train_df['Target']\n",
        "y_test = test_df['Target']"
      ],
      "metadata": {
        "id": "KP5uuIVubnB8"
      },
      "execution_count": null,
      "outputs": []
    },
    {
      "cell_type": "code",
      "source": [
        "# Initialize classifiers\n",
        "classifiers = {\n",
        "    \"Naive Bayes\": MultinomialNB(),\n",
        "    \"Logistic Regression\": LogisticRegression(max_iter=1000),\n",
        "    \"Linear SVM\": LinearSVC(),\n",
        "    \"Stochastic Gradient Descent\": SGDClassifier(),\n",
        "    \"Random Forest\": RandomForestClassifier()\n",
        "}"
      ],
      "metadata": {
        "id": "P4Vfv7hjbm_d"
      },
      "execution_count": null,
      "outputs": []
    },
    {
      "cell_type": "code",
      "source": [
        "results = {}\n",
        "\n",
        "for name, clf in classifiers.items():\n",
        "    # Train on POS tags\n",
        "    if name != \"Naive Bayes\":  # Naive Bayes is only suitable for non-negative features like TF-IDF\n",
        "        clf.fit(X_train_pos, y_train)\n",
        "        predictions_pos = clf.predict(X_test_pos)\n",
        "        results[name + \" (POS tags)\"] = {\n",
        "            \"F1 Score\": f1_score(y_test, predictions_pos),\n",
        "            \"Confusion Matrix\": confusion_matrix(y_test, predictions_pos)\n",
        "        }\n",
        "\n",
        "    # Train on w2v embeddings (skip for Naive Bayes)\n",
        "    if name != \"Naive Bayes\":\n",
        "        clf.fit(X_train_w2v, y_train)\n",
        "        predictions_w2v = clf.predict(X_test_w2v)\n",
        "        results[name + \" (Word2Vec)\"] = {\n",
        "            \"F1 Score\": f1_score(y_test, predictions_w2v),\n",
        "            \"Confusion Matrix\": confusion_matrix(y_test, predictions_w2v)\n",
        "        }\n",
        "\n",
        "print(results)"
      ],
      "metadata": {
        "colab": {
          "base_uri": "https://localhost:8080/"
        },
        "id": "i4LTlJgBbm80",
        "outputId": "71ca951f-3422-4deb-9dd3-db3df259940f"
      },
      "execution_count": null,
      "outputs": [
        {
          "output_type": "stream",
          "name": "stderr",
          "text": [
            "/usr/local/lib/python3.10/dist-packages/sklearn/svm/_base.py:1244: ConvergenceWarning: Liblinear failed to converge, increase the number of iterations.\n",
            "  warnings.warn(\n"
          ]
        },
        {
          "output_type": "stream",
          "name": "stdout",
          "text": [
            "{'Logistic Regression (POS tags)': {'F1 Score': 0.762025608490022, 'Confusion Matrix': array([[3614, 1082],\n",
            "       [ 981, 3303]])}, 'Logistic Regression (Word2Vec)': {'F1 Score': 0.9639085528606243, 'Confusion Matrix': array([[4516,  180],\n",
            "       [ 131, 4153]])}, 'Linear SVM (POS tags)': {'F1 Score': 0.7694764457625186, 'Confusion Matrix': array([[3586, 1110],\n",
            "       [ 911, 3373]])}, 'Linear SVM (Word2Vec)': {'F1 Score': 0.9633750579508578, 'Confusion Matrix': array([[4508,  188],\n",
            "       [ 128, 4156]])}, 'Stochastic Gradient Descent (POS tags)': {'F1 Score': 0.7431367868226307, 'Confusion Matrix': array([[3715,  981],\n",
            "       [1171, 3113]])}, 'Stochastic Gradient Descent (Word2Vec)': {'F1 Score': 0.9625952435927037, 'Confusion Matrix': array([[4487,  209],\n",
            "       [ 115, 4169]])}, 'Random Forest (POS tags)': {'F1 Score': 0.8268635389378424, 'Confusion Matrix': array([[4054,  642],\n",
            "       [ 812, 3472]])}, 'Random Forest (Word2Vec)': {'F1 Score': 0.9596717467760845, 'Confusion Matrix': array([[4543,  153],\n",
            "       [ 191, 4093]])}}\n"
          ]
        }
      ]
    },
    {
      "cell_type": "code",
      "source": [
        "import matplotlib.pyplot as plt\n",
        "\n",
        "# Extracting F1 scores for plotting\n",
        "classifier_names = list(results.keys())\n",
        "f1_scores = [results[name][\"F1 Score\"] for name in classifier_names]\n",
        "\n",
        "plt.figure(figsize=(14, 7))\n",
        "plt.barh(classifier_names, f1_scores, color=['blue', 'cyan', 'green', 'lime', 'red', 'pink', 'orange', 'yellow'])\n",
        "plt.xlabel('F1 Score')\n",
        "plt.ylabel('Classifier (Feature Used)')\n",
        "plt.title('F1 Score Comparison of Different Classifiers')\n",
        "plt.xlim(0.7, 1.0)  # Focusing on the range of observed F1 scores\n",
        "plt.tight_layout()\n",
        "plt.grid(axis='x')\n",
        "plt.show()\n"
      ],
      "metadata": {
        "colab": {
          "base_uri": "https://localhost:8080/",
          "height": 707
        },
        "id": "oPpLR8KTbm3M",
        "outputId": "1ae9e439-ff48-4beb-96ca-e9fb17956b5f"
      },
      "execution_count": null,
      "outputs": [
        {
          "output_type": "display_data",
          "data": {
            "text/plain": [
              "<Figure size 1400x700 with 1 Axes>"
            ],
            "image/png": "[encoded data removed]"
          },
          "metadata": {}
        }
      ]
    },
    {
      "cell_type": "markdown",
      "source": [
        "Word2Vec embeddings consistently outperform POS tags across all classifiers. This indicates the rich semantic information captured by Word2Vec, which is crucial for this fake news classification task.\n",
        "\n",
        "Logistic Regression, Linear SVM, and Stochastic Gradient Descent have similar performance when trained on Word2Vec embeddings. Random Forest, although slightly more computationally intensive, offers robustness and also performs exceptionally well with Word2Vec.\n",
        "\n",
        "Given the high F1 scores and computational efficiency, Logistic Regression with Word2Vec embeddings stands out as a top candidate. Random Forest with Word2Vec is also a strong contender, offering robustness and adaptability to potential changes in the type of data.\n"
      ],
      "metadata": {
        "id": "oQScGiXIdlBw"
      }
    },
    {
      "cell_type": "markdown",
      "source": [
        "#### Deciding to proceed with Logistic Regression and Random Forest with Word2Vec Embeddings."
      ],
      "metadata": {
        "id": "wgW6b-CEeXOZ"
      }
    },
    {
      "cell_type": "code",
      "source": [
        "from sklearn.model_selection import GridSearchCV\n",
        "\n",
        "# Define hyperparameters for Logistic Regression\n",
        "logistic_params = {\n",
        "    'C': [0.001, 0.01, 0.1, 1, 10, 100],\n",
        "    'penalty': ['l2'] # l1 gave non-finite value error\n",
        "}\n",
        "\n",
        "# Define hyperparameters for Random Forest\n",
        "random_forest_params = {\n",
        "    'n_estimators': [10, 50, 100, 200],\n",
        "    'max_depth': [None, 10, 20, 30],\n",
        "    'min_samples_split': [2, 5, 10],\n",
        "    'min_samples_leaf': [1, 2, 4]\n",
        "}"
      ],
      "metadata": {
        "id": "kLGSz5NLeXAT"
      },
      "execution_count": null,
      "outputs": []
    },
    {
      "cell_type": "code",
      "source": [
        "# Hyperparameter tuning for Logistic Regression\n",
        "logistic_grid = GridSearchCV(LogisticRegression(max_iter=1000), logistic_params, scoring='f1', cv=5)\n",
        "logistic_grid.fit(X_train_w2v, y_train)\n",
        "best_logistic_params = logistic_grid.best_params_"
      ],
      "metadata": {
        "id": "RSSAvjcFbm0l"
      },
      "execution_count": null,
      "outputs": []
    },
    {
      "cell_type": "code",
      "source": [
        "print(\"Best parameters for Logistic Regression:\", best_logistic_params)"
      ],
      "metadata": {
        "colab": {
          "base_uri": "https://localhost:8080/"
        },
        "id": "QnTpsnm1jw3B",
        "outputId": "2c77889a-41a4-401a-be30-d9e1ac9b3686"
      },
      "execution_count": null,
      "outputs": [
        {
          "output_type": "stream",
          "name": "stdout",
          "text": [
            "Best parameters for Logistic Regression: {'C': 10, 'penalty': 'l2'}\n"
          ]
        }
      ]
    },
    {
      "cell_type": "code",
      "source": [
        "mean_test_scores = logistic_grid.cv_results_['mean_test_score']\n",
        "\n",
        "plt.figure(figsize=(10, 6))\n",
        "plt.plot(logistic_params['C'], mean_test_scores, marker='o', linestyle='-', color='b')\n",
        "plt.xscale('log')\n",
        "plt.xlabel('C values (log scale)')\n",
        "plt.ylabel('Mean F1 Score')\n",
        "plt.title('F1 Scores for Different C Values with L2 Penalty')\n",
        "plt.grid(True, which=\"both\", ls=\"--\")\n",
        "plt.show()"
      ],
      "metadata": {
        "colab": {
          "base_uri": "https://localhost:8080/",
          "height": 569
        },
        "id": "j9uWMGuJjvDV",
        "outputId": "59e6e053-d158-43c8-f386-95314aade290"
      },
      "execution_count": null,
      "outputs": [
        {
          "output_type": "display_data",
          "data": {
            "text/plain": [
              "<Figure size 1000x600 with 1 Axes>"
            ],
            "image/png": "[encoded data removed]"
          },
          "metadata": {}
        }
      ]
    },
    {
      "cell_type": "code",
      "source": [
        "import joblib\n",
        "\n",
        "# Save the trained logistic regression model\n",
        "joblib.dump(logistic_grid.best_estimator_, 'logistic_model.pkl')"
      ],
      "metadata": {
        "colab": {
          "base_uri": "https://localhost:8080/"
        },
        "id": "vEOpjY0xbmx2",
        "outputId": "6f98c923-a98b-4eb9-c733-8238b7ff3df6"
      },
      "execution_count": null,
      "outputs": [
        {
          "output_type": "execute_result",
          "data": {
            "text/plain": [
              "['logistic_model.pkl']"
            ]
          },
          "metadata": {},
          "execution_count": 35
        }
      ]
    },
    {
      "cell_type": "code",
      "source": [],
      "metadata": {
        "id": "GqxHcPofbmt2"
      },
      "execution_count": null,
      "outputs": []
    },
    {
      "cell_type": "code",
      "source": [
        "|"
      ],
      "metadata": {
        "id": "Lw9lRhLxbmhk"
      },
      "execution_count": null,
      "outputs": []
    }
  ]
}